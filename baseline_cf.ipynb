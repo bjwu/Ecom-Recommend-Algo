{
 "cells": [
  {
   "cell_type": "code",
   "execution_count": 1,
   "metadata": {},
   "outputs": [],
   "source": [
    "import pandas as pd\n",
    "import numpy as np\n",
    "import math\n",
    "import gc\n",
    "from collections import defaultdict"
   ]
  },
  {
   "cell_type": "code",
   "execution_count": 2,
   "metadata": {},
   "outputs": [],
   "source": [
    "jdata_action_train = pd.read_hdf('./data/action_train.h5', key='df', mode='r')\n",
    "jdata_comment = pd.read_csv('./raw/jdata_comment.csv',sep=',')\n",
    "jdata_product = pd.read_csv('./raw/jdata_product.csv',sep=',')\n",
    "jdata_shop = pd.read_csv('./raw/jdata_shop.csv',sep=',')\n",
    "jdata_user = pd.read_csv('./raw/jdata_user.csv',sep=',')"
   ]
  },
  {
   "cell_type": "code",
   "execution_count": 3,
   "metadata": {},
   "outputs": [],
   "source": [
    "# 为action数据加上商品cate与brand\n",
    "df = jdata_action_train.merge(jdata_product,on='sku_id',how='left')\n",
    "df[['brand']] = df[['brand']].astype('int32', errors='ignore')\n",
    "df[['cate']] = df[['cate']].astype('int32', errors='ignore')"
   ]
  },
  {
   "cell_type": "code",
   "execution_count": 4,
   "metadata": {},
   "outputs": [],
   "source": [
    "# brand, cate的热度统计\n",
    "# cate类别数相对brand非常少\n",
    "cnt_brand = df.brand.value_counts().to_dict()\n",
    "cnt_cate = df.cate.value_counts().to_dict()"
   ]
  },
  {
   "cell_type": "code",
   "execution_count": 20,
   "metadata": {},
   "outputs": [],
   "source": [
    "# 筛选出这两个月内购买物品超过5的用户，使得矩阵不那么稀疏\n",
    "data_user = pd.DataFrame(df.groupby('user_id').count()['sku_id'].sort_values(ascending=False))\n",
    "data_user.columns = ['item_cnts']\n",
    "data_user.reset_index(inplace=True)"
   ]
  },
  {
   "cell_type": "code",
   "execution_count": 21,
   "metadata": {},
   "outputs": [
    {
     "data": {
      "text/plain": [
       "1512"
      ]
     },
     "execution_count": 21,
     "metadata": {},
     "output_type": "execute_result"
    }
   ],
   "source": [
    "# 按照以上筛选建立新的df\n",
    "tmp = data_user[data_user['item_cnts']>=5]\n",
    "df_new = df.merge(tmp, on='user_id',how='inner').sort_values(by='action_time')[['user_id','sku_id','brand','cate','type']]\n",
    "del tmp \n",
    "gc.collect()"
   ]
  },
  {
   "cell_type": "code",
   "execution_count": 8,
   "metadata": {},
   "outputs": [],
   "source": [
    "# 给每个行为赋其rating权重\n",
    "df_new['score'] = df_new['type'].map({1:0.1, 2:0.5, 3:0.2, 4:0.3, 5:0.4})\n",
    "# 建立最终的训练dataframe\n",
    "df_train = pd.DataFrame(df_new.groupby(['user_id','brand']).score.sum()).reset_index()\n",
    "df_train[['brand']] = df_train[['brand']].astype('int32', errors='ignore')"
   ]
  },
  {
   "cell_type": "code",
   "execution_count": 8,
   "metadata": {},
   "outputs": [
    {
     "name": "stdout",
     "output_type": "stream",
     "text": [
      "Finished 2000 brands..\n",
      "Finished 4000 brands..\n",
      "Finished 6000 brands..\n",
      "Finished 8000 brands..\n",
      "Finished 10000 brands..\n"
     ]
    }
   ],
   "source": [
    "train_brand = df_train.groupby('brand')['user_id'].apply(set).to_dict()\n",
    "# Brand_similarity matrix\n",
    "SIM_brand = defaultdict(dict)   # dict版本相似度矩阵\n",
    "SIM_brand_list = defaultdict(lambda : np.zeros(12000))\n",
    "cnt = 0\n",
    "train_brand_items = train_brand.items()\n",
    "for brand1, users1 in train_brand_items:\n",
    "    cnt +=1 \n",
    "    if cnt % 2000 == 0:\n",
    "        print('Finished {} brands..'.format(cnt))\n",
    "    for brand2, users2 in train_brand_items:\n",
    "        if brand1 != brand2:\n",
    "        # 避免生成与自己的相似度\n",
    "            sim = len(users1&users2)/math.sqrt(len(users1)*len(users2))\n",
    "            SIM_brand[brand1][brand2] = sim\n",
    "            SIM_brand_list[brand1][brand2] = sim"
   ]
  },
  {
   "cell_type": "code",
   "execution_count": 9,
   "metadata": {},
   "outputs": [],
   "source": [
    "### user_id与对应操作的的brands\n",
    "action_brand = df_new.groupby('user_id')['brand'].apply(list).to_dict()"
   ]
  },
  {
   "cell_type": "code",
   "execution_count": 10,
   "metadata": {},
   "outputs": [],
   "source": [
    "### 这一步相当于为了下一步只计算test1中拥有的user，为了节省时间\n",
    "jdata_action_test1 = pd.read_hdf('./data/action_test1.h5', key='df', mode='r')\n",
    "users_test1 = jdata_action_test1[jdata_action_test1['type']==2].user_id.to_list()"
   ]
  },
  {
   "cell_type": "code",
   "execution_count": 11,
   "metadata": {
    "scrolled": true
   },
   "outputs": [
    {
     "name": "stdout",
     "output_type": "stream",
     "text": [
      "Finished 5000 users!\n",
      "Finished 10000 users!\n",
      "Finished 15000 users!\n",
      "Finished 20000 users!\n",
      "Finished 25000 users!\n",
      "Finished 30000 users!\n",
      "Finished 35000 users!\n",
      "Finished 40000 users!\n",
      "Finished 45000 users!\n",
      "Finished 50000 users!\n",
      "Finished 55000 users!\n"
     ]
    }
   ],
   "source": [
    "# 为了测试首先把根据每个user的历史log对应的item的相似度相加的矩阵建好\n",
    "Rec = defaultdict(lambda : np.zeros(12000))\n",
    "users_in_train = action_brand.keys()\n",
    "users_in_test_train = set()\n",
    "cnt = 0\n",
    "for u in users_test1:\n",
    "    cnt +=1 \n",
    "    if cnt % 5000 == 0:\n",
    "        print('Finished {} users!'.format(cnt))\n",
    "    if u not in users_in_train:\n",
    "        continue\n",
    "    users_in_test_train.add(u)\n",
    "    for brand in action_brand[u]:\n",
    "            Rec[u] += SIM_brand_list[brand]"
   ]
  },
  {
   "cell_type": "code",
   "execution_count": 12,
   "metadata": {},
   "outputs": [],
   "source": [
    "def Recommend(user, k):\n",
    "    ### 返回array中最大的topK个元素的index\n",
    "    idx = np.argpartition(Rec[user], -k)[-k:]\n",
    "    return set(idx)"
   ]
  },
  {
   "cell_type": "code",
   "execution_count": 14,
   "metadata": {},
   "outputs": [
    {
     "name": "stdout",
     "output_type": "stream",
     "text": [
      "Generate Testset successfully....\n"
     ]
    },
    {
     "data": {
      "text/plain": [
       "[0.023749618786215308, 0.008258930050972049]"
      ]
     },
     "execution_count": 14,
     "metadata": {},
     "output_type": "execute_result"
    }
   ],
   "source": [
    "# 测试\n",
    "from Metrics import metrics\n",
    "mtc = metrics()\n",
    "mtc.PrecisonRecall(Recommend, 3)"
   ]
  }
 ],
 "metadata": {
  "kernelspec": {
   "display_name": "Python 3",
   "language": "python",
   "name": "python3"
  },
  "language_info": {
   "codemirror_mode": {
    "name": "ipython",
    "version": 3
   },
   "file_extension": ".py",
   "mimetype": "text/x-python",
   "name": "python",
   "nbconvert_exporter": "python",
   "pygments_lexer": "ipython3",
   "version": "3.6.8"
  }
 },
 "nbformat": 4,
 "nbformat_minor": 2
}
