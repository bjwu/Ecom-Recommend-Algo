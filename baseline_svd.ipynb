{
 "cells": [
  {
   "cell_type": "code",
   "execution_count": 1,
   "metadata": {},
   "outputs": [],
   "source": [
    "import pandas as pd\n",
    "import numpy as np\n",
    "import math\n",
    "from collections import defaultdict\n",
    "\n",
    "from surprise import Dataset\n",
    "from surprise import Reader\n",
    "from surprise import SVD"
   ]
  },
  {
   "cell_type": "code",
   "execution_count": 2,
   "metadata": {},
   "outputs": [],
   "source": [
    "jdata_action_train = pd.read_hdf('./data/action_train.h5', key='df', mode='r')\n",
    "jdata_comment = pd.read_csv('./raw/jdata_comment.csv',sep=',')\n",
    "jdata_product = pd.read_csv('./raw/jdata_product.csv',sep=',')\n",
    "jdata_shop = pd.read_csv('./raw/jdata_shop.csv',sep=',')\n",
    "jdata_user = pd.read_csv('./raw/jdata_user.csv',sep=',')"
   ]
  },
  {
   "cell_type": "code",
   "execution_count": 3,
   "metadata": {},
   "outputs": [],
   "source": [
    "# 为action数据加上商品cate与brand\n",
    "df = jdata_action_train.merge(jdata_product,on='sku_id',how='left')\n",
    "df[['brand']] = df[['brand']].astype('int32', errors='ignore')\n",
    "df[['cate']] = df[['cate']].astype('int32', errors='ignore')"
   ]
  },
  {
   "cell_type": "code",
   "execution_count": 4,
   "metadata": {},
   "outputs": [],
   "source": [
    "# brand, cate的热度统计\n",
    "cnt_brand = df.brand.value_counts().to_dict()\n",
    "cnt_cate = df.cate.value_counts().to_dict()"
   ]
  },
  {
   "cell_type": "code",
   "execution_count": null,
   "metadata": {},
   "outputs": [],
   "source": [
    "# 筛选出这两个月内购买物品超过5的用户，使得矩阵不那么稀疏\n",
    "data_user = pd.DataFrame(df.groupby('user_id').count()['sku_id'].sort_values(ascending=False))\n",
    "data_user.columns = ['item_cnts']\n",
    "data_user.reset_index(inplace=True)\n",
    "# 按照以上筛选建立新的df\n",
    "tmp = data_user[data_user['item_cnts']>=5]\n",
    "df_new = df.merge(tmp, on='user_id',how='inner').sort_values(by='action_time')[['user_id','sku_id','brand','cate','type']]"
   ]
  },
  {
   "cell_type": "code",
   "execution_count": null,
   "metadata": {},
   "outputs": [],
   "source": [
    "# 给每个行为赋其rating权重\n",
    "df_new['score'] = df_new['type'].map({1:0.1, 2:0.5, 3:0.2, 4:0.3, 5:0.4})\n",
    "# 建立最终的训练dataframe\n",
    "df_train = pd.DataFrame(df_new.groupby(['user_id','brand']).score.sum()).reset_index()\n",
    "df_train[['brand']] = df_train[['brand']].astype('int32', errors='ignore')"
   ]
  },
  {
   "cell_type": "code",
   "execution_count": null,
   "metadata": {},
   "outputs": [],
   "source": [
    "# 分数分割\n",
    "df_train['score'] = pd.qcut(df_train['score'], 10, labels=[1,2,3,4,5], duplicates='drop')"
   ]
  },
  {
   "cell_type": "code",
   "execution_count": null,
   "metadata": {},
   "outputs": [],
   "source": [
    "reader = Reader(rating_scale=(1,5))\n",
    "data = Dataset.load_from_df(df_train, reader)\n",
    "trainset = data.build_full_trainset()"
   ]
  },
  {
   "cell_type": "code",
   "execution_count": null,
   "metadata": {},
   "outputs": [],
   "source": [
    "model = SVD(n_factors=100, verbose=True)\n",
    "model.fit(trainset)"
   ]
  },
  {
   "cell_type": "code",
   "execution_count": null,
   "metadata": {},
   "outputs": [],
   "source": [
    "def Recommend_svd(user, k):\n",
    "    est = [0]*12000\n",
    "    for i in range(12000):\n",
    "        est[i] = model.predict(user, i).est\n",
    "    idx = np.argpartition(est, -k)[-k:]\n",
    "    return set(idx)"
   ]
  },
  {
   "cell_type": "code",
   "execution_count": null,
   "metadata": {},
   "outputs": [],
   "source": [
    "from Metrics import metrics\n",
    "mtc = metrics()\n",
    "mtc.PrecisonRecall(Recommend_svd, 3)"
   ]
  }
 ],
 "metadata": {
  "kernelspec": {
   "display_name": "Python 3",
   "language": "python",
   "name": "python3"
  },
  "language_info": {
   "codemirror_mode": {
    "name": "ipython",
    "version": 3
   },
   "file_extension": ".py",
   "mimetype": "text/x-python",
   "name": "python",
   "nbconvert_exporter": "python",
   "pygments_lexer": "ipython3",
   "version": "3.6.8"
  }
 },
 "nbformat": 4,
 "nbformat_minor": 2
}
