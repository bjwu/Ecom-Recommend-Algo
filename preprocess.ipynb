{
 "cells": [
  {
   "cell_type": "code",
   "execution_count": 1,
   "metadata": {},
   "outputs": [],
   "source": [
    "import pandas as pd\n",
    "import numpy as np\n",
    "from datetime import datetime"
   ]
  },
  {
   "cell_type": "code",
   "execution_count": 2,
   "metadata": {},
   "outputs": [
    {
     "ename": "KeyboardInterrupt",
     "evalue": "",
     "output_type": "error",
     "traceback": [
      "\u001b[0;31m---------------------------------------------------------------------------\u001b[0m",
      "\u001b[0;31mKeyboardInterrupt\u001b[0m                         Traceback (most recent call last)",
      "\u001b[0;32m<ipython-input-2-0b0a2064d1e1>\u001b[0m in \u001b[0;36m<module>\u001b[0;34m\u001b[0m\n\u001b[0;32m----> 1\u001b[0;31m \u001b[0mdata\u001b[0m \u001b[0;34m=\u001b[0m \u001b[0mpd\u001b[0m\u001b[0;34m.\u001b[0m\u001b[0mread_csv\u001b[0m\u001b[0;34m(\u001b[0m\u001b[0;34m'./raw/jdata_action.csv'\u001b[0m\u001b[0;34m)\u001b[0m\u001b[0;34m.\u001b[0m\u001b[0msort_values\u001b[0m\u001b[0;34m(\u001b[0m\u001b[0;34m'action_time'\u001b[0m\u001b[0;34m)\u001b[0m\u001b[0;34m\u001b[0m\u001b[0;34m\u001b[0m\u001b[0m\n\u001b[0m\u001b[1;32m      2\u001b[0m \u001b[0mdata\u001b[0m\u001b[0;34m.\u001b[0m\u001b[0mto_csv\u001b[0m\u001b[0;34m(\u001b[0m\u001b[0;34m'./data/jdata_action_sorted.csv'\u001b[0m\u001b[0;34m,\u001b[0m \u001b[0mindex\u001b[0m\u001b[0;34m=\u001b[0m\u001b[0;32mFalse\u001b[0m\u001b[0;34m)\u001b[0m\u001b[0;34m\u001b[0m\u001b[0;34m\u001b[0m\u001b[0m\n",
      "\u001b[0;32m/opt/python3/anaconda3/lib/python3.6/site-packages/pandas/core/frame.py\u001b[0m in \u001b[0;36msort_values\u001b[0;34m(self, by, axis, ascending, inplace, kind, na_position)\u001b[0m\n\u001b[1;32m   4723\u001b[0m \u001b[0;34m\u001b[0m\u001b[0m\n\u001b[1;32m   4724\u001b[0m             indexer = nargsort(k, kind=kind, ascending=ascending,\n\u001b[0;32m-> 4725\u001b[0;31m                                na_position=na_position)\n\u001b[0m\u001b[1;32m   4726\u001b[0m \u001b[0;34m\u001b[0m\u001b[0m\n\u001b[1;32m   4727\u001b[0m         new_data = self._data.take(indexer,\n",
      "\u001b[0;32m/opt/python3/anaconda3/lib/python3.6/site-packages/pandas/core/sorting.py\u001b[0m in \u001b[0;36mnargsort\u001b[0;34m(items, kind, ascending, na_position)\u001b[0m\n\u001b[1;32m    271\u001b[0m         \u001b[0mnon_nans\u001b[0m \u001b[0;34m=\u001b[0m \u001b[0mnon_nans\u001b[0m\u001b[0;34m[\u001b[0m\u001b[0;34m:\u001b[0m\u001b[0;34m:\u001b[0m\u001b[0;34m-\u001b[0m\u001b[0;36m1\u001b[0m\u001b[0;34m]\u001b[0m\u001b[0;34m\u001b[0m\u001b[0;34m\u001b[0m\u001b[0m\n\u001b[1;32m    272\u001b[0m         \u001b[0mnon_nan_idx\u001b[0m \u001b[0;34m=\u001b[0m \u001b[0mnon_nan_idx\u001b[0m\u001b[0;34m[\u001b[0m\u001b[0;34m:\u001b[0m\u001b[0;34m:\u001b[0m\u001b[0;34m-\u001b[0m\u001b[0;36m1\u001b[0m\u001b[0;34m]\u001b[0m\u001b[0;34m\u001b[0m\u001b[0;34m\u001b[0m\u001b[0m\n\u001b[0;32m--> 273\u001b[0;31m     \u001b[0mindexer\u001b[0m \u001b[0;34m=\u001b[0m \u001b[0mnon_nan_idx\u001b[0m\u001b[0;34m[\u001b[0m\u001b[0mnon_nans\u001b[0m\u001b[0;34m.\u001b[0m\u001b[0margsort\u001b[0m\u001b[0;34m(\u001b[0m\u001b[0mkind\u001b[0m\u001b[0;34m=\u001b[0m\u001b[0mkind\u001b[0m\u001b[0;34m)\u001b[0m\u001b[0;34m]\u001b[0m\u001b[0;34m\u001b[0m\u001b[0;34m\u001b[0m\u001b[0m\n\u001b[0m\u001b[1;32m    274\u001b[0m     \u001b[0;32mif\u001b[0m \u001b[0;32mnot\u001b[0m \u001b[0mascending\u001b[0m\u001b[0;34m:\u001b[0m\u001b[0;34m\u001b[0m\u001b[0;34m\u001b[0m\u001b[0m\n\u001b[1;32m    275\u001b[0m         \u001b[0mindexer\u001b[0m \u001b[0;34m=\u001b[0m \u001b[0mindexer\u001b[0m\u001b[0;34m[\u001b[0m\u001b[0;34m:\u001b[0m\u001b[0;34m:\u001b[0m\u001b[0;34m-\u001b[0m\u001b[0;36m1\u001b[0m\u001b[0;34m]\u001b[0m\u001b[0;34m\u001b[0m\u001b[0;34m\u001b[0m\u001b[0m\n",
      "\u001b[0;31mKeyboardInterrupt\u001b[0m: "
     ]
    }
   ],
   "source": [
    "data = pd.read_csv('./raw/jdata_action.csv').sort_values('action_time')\n",
    "data.to_csv('./data/jdata_action_sorted.csv', index=False)"
   ]
  },
  {
   "cell_type": "code",
   "execution_count": 1,
   "metadata": {},
   "outputs": [],
   "source": [
    "# 减少内存的函数\n",
    "def reduce_mem_usage(df, verbose=True):\n",
    "    numerics = ['int16', 'int32', 'int64', 'float16', 'float32', 'float64']\n",
    "    start_mem = df.memory_usage().sum() / 1024**2\n",
    "    for col in df.columns:\n",
    "        col_type = df[col].dtypes\n",
    "        if col_type in numerics:\n",
    "            c_min = df[col].min()\n",
    "            c_max = df[col].max()\n",
    "            if str(col_type)[:3] == 'int':\n",
    "                if c_min > np.iinfo(np.int8).min and c_max < np.iinfo(np.int8).max:\n",
    "                    df[col] = df[col].astype(np.int8)\n",
    "                elif c_min > np.iinfo(np.int16).min and c_max < np.iinfo(np.int16).max:\n",
    "                    df[col] = df[col].astype(np.int16)\n",
    "                elif c_min > np.iinfo(np.int32).min and c_max < np.iinfo(np.int32).max:\n",
    "                    df[col] = df[col].astype(np.int32)\n",
    "                elif c_min > np.iinfo(np.int64).min and c_max < np.iinfo(np.int64).max:\n",
    "                    df[col] = df[col].astype(np.int64)\n",
    "            else:\n",
    "                if c_min > np.finfo(np.float16).min and c_max < np.finfo(np.float16).max:\n",
    "                    df[col] = df[col].astype(np.float16)\n",
    "                elif c_min > np.finfo(np.float32).min and c_max < np.finfo(np.float32).max:\n",
    "                    df[col] = df[col].astype(np.float32)\n",
    "                else:\n",
    "                    df[col] = df[col].astype(np.float64)\n",
    "    end_mem = df.memory_usage().sum() / 1024**2\n",
    "    if verbose: print('Mem. usage decreased to {:5.2f} Mb ({:.1f}% reduction)'.format(end_mem, 100 * (start_mem - end_mem) / start_mem))\n",
    "    return df"
   ]
  },
  {
   "cell_type": "code",
   "execution_count": 6,
   "metadata": {},
   "outputs": [
    {
     "name": "stdout",
     "output_type": "stream",
     "text": [
      "Mem. usage decreased to 745.30 Mb (47.5% reduction)\n",
      "Mem. usage decreased to 30.46 Mb (55.0% reduction)\n",
      "Mem. usage decreased to  5.72 Mb (57.5% reduction)\n",
      "Mem. usage decreased to  0.24 Mb (57.1% reduction)\n",
      "Mem. usage decreased to 38.35 Mb (65.3% reduction)\n"
     ]
    }
   ],
   "source": [
    "jdata_action=reduce_mem_usage(pd.read_csv('./data/jdata_action_sorted.csv',sep=','))\n",
    "jdata_comment=reduce_mem_usage(pd.read_csv('./raw/jdata_comment.csv',sep=','))\n",
    "jdata_product=reduce_mem_usage(pd.read_csv('./raw/jdata_product.csv',sep=','))\n",
    "jdata_shop=reduce_mem_usage(pd.read_csv('./raw/jdata_shop.csv',sep=','))\n",
    "jdata_user=reduce_mem_usage(pd.read_csv('./raw/jdata_user.csv',sep=','))"
   ]
  },
  {
   "cell_type": "code",
   "execution_count": null,
   "metadata": {},
   "outputs": [],
   "source": [
    "### 如果不需要减少内存\n",
    "jdata_action = pd.read_csv('./data/jdata_action_sorted.csv',sep=',')\n",
    "jdata_action_train = jdata_action[jdata_action['action_time'] <= '2018-04-00']\n",
    "jdata_action_test1 = jdata_action[(jdata_action['action_time'] > '2018-04-00')&((jdata_action['action_time'] <= '2018-04-03'))]\n",
    "jdata_action_test2 = jdata_action[(jdata_action['action_time'] > '2018-04-03')&((jdata_action['action_time'] <= '2018-04-06'))]\n",
    "jdata_action_test3 = jdata_action[(jdata_action['action_time'] > '2018-04-06')&((jdata_action['action_time'] <= '2018-04-09'))]\n",
    "jdata_action_test4 = jdata_action[(jdata_action['action_time'] > '2018-04-09')&((jdata_action['action_time'] <= '2018-04-12'))]\n",
    "jdata_action_test5 = jdata_action[(jdata_action['action_time'] > '2018-04-12')&((jdata_action['action_time'] <= '2018-04-15'))]\n",
    "jdata_action_train.to_csv('./data/action_train.csv', index=False)\n",
    "jdata_action_test1.to_csv('./data/action_test1.csv', index=False)\n",
    "jdata_action_test2.to_csv('./data/action_test2.csv', index=False)\n",
    "jdata_action_test3.to_csv('./data/action_test3.csv', index=False)\n",
    "jdata_action_test4.to_csv('./data/action_test4.csv', index=False)\n",
    "jdata_action_test5.to_csv('./data/action_test5.csv', index=False)"
   ]
  },
  {
   "cell_type": "code",
   "execution_count": 19,
   "metadata": {},
   "outputs": [],
   "source": [
    "### 生成训练集和5个3天迭代测试集\n",
    "jdata_action_train = jdata_action[jdata_action['action_time'] <= '2018-04-00']\n",
    "jdata_action_test1 = jdata_action[(jdata_action['action_time'] > '2018-04-00')&((jdata_action['action_time'] <= '2018-04-03'))]\n",
    "jdata_action_test2 = jdata_action[(jdata_action['action_time'] > '2018-04-03')&((jdata_action['action_time'] <= '2018-04-06'))]\n",
    "jdata_action_test3 = jdata_action[(jdata_action['action_time'] > '2018-04-06')&((jdata_action['action_time'] <= '2018-04-09'))]\n",
    "jdata_action_test4 = jdata_action[(jdata_action['action_time'] > '2018-04-09')&((jdata_action['action_time'] <= '2018-04-12'))]\n",
    "jdata_action_test5 = jdata_action[(jdata_action['action_time'] > '2018-04-12')&((jdata_action['action_time'] <= '2018-04-15'))]"
   ]
  },
  {
   "cell_type": "code",
   "execution_count": 27,
   "metadata": {},
   "outputs": [],
   "source": [
    "# 听说用h5比较快\n",
    "jdata_action_train.to_hdf('./data/action_train.h5', key='df', mode='w')\n",
    "jdata_action_test1.to_hdf('./data/action_test1.h5', key='df', mode='w')\n",
    "jdata_action_test2.to_hdf('./data/action_test2.h5', key='df', mode='w')\n",
    "jdata_action_test3.to_hdf('./data/action_test3.h5', key='df', mode='w')\n",
    "jdata_action_test4.to_hdf('./data/action_test4.h5', key='df', mode='w')\n",
    "jdata_action_test5.to_hdf('./data/action_test5.h5', key='df', mode='w')\n",
    "# df.to_hdf('data.h5', key='df', mode='w')"
   ]
  }
 ],
 "metadata": {
  "kernelspec": {
   "display_name": "Python 3",
   "language": "python",
   "name": "python3"
  },
  "language_info": {
   "codemirror_mode": {
    "name": "ipython",
    "version": 3
   },
   "file_extension": ".py",
   "mimetype": "text/x-python",
   "name": "python",
   "nbconvert_exporter": "python",
   "pygments_lexer": "ipython3",
   "version": "3.6.8"
  }
 },
 "nbformat": 4,
 "nbformat_minor": 2
}
