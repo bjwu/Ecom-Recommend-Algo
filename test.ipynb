{
 "cells": [
  {
   "cell_type": "code",
   "execution_count": 2,
   "metadata": {},
   "outputs": [],
   "source": [
    "import pandas as pd\n",
    "import socket\n",
    "import numpy as np\n",
    "import math\n",
    "import gc\n",
    "from collections import defaultdict"
   ]
  },
  {
   "cell_type": "code",
   "execution_count": 3,
   "metadata": {},
   "outputs": [],
   "source": [
    "jdata_action_train = pd.read_hdf('./data/action_train_with_neg.h5', key='df', mode='r')\n",
    "jdata_action_test = pd.read_hdf('./data/action_test_with_neg.h5', key='df', mode='r')\n",
    "jdata_comment = pd.read_csv('./raw/jdata_comment.csv',sep=',')\n",
    "jdata_product = pd.read_csv('./raw/jdata_product.csv',sep=',')\n",
    "jdata_shop = pd.read_csv('./raw/jdata_shop.csv',sep=',')\n",
    "jdata_user = pd.read_csv('./raw/jdata_user.csv',sep=',')"
   ]
  },
  {
   "cell_type": "code",
   "execution_count": 44,
   "metadata": {},
   "outputs": [],
   "source": [
    "import xlearn as xl\n",
    "\n",
    "fm_model = xl.create_fm()\n",
    "fm_model.setTrain('./data/train_ffm.txt')\n",
    "param = {'task':'binary', \n",
    "         'lr':0.2, \n",
    "         'lambda':0.002, \n",
    "         'metric':'auc',\n",
    "         'opt': 'adagrad',\n",
    "         'k': 16   #隐向量长度\n",
    "        }\n",
    "fm_model.setTXTModel(\"./model/model.txt\")   # 这句话要放在fit之前\n",
    "fm_model.fit(param, \"./model/model.out\")\n",
    "fm_model.setSigmoid()  # or ffm_model.setSign()"
   ]
  },
  {
   "cell_type": "code",
   "execution_count": 9,
   "metadata": {},
   "outputs": [],
   "source": [
    "jdata_action_train = jdata_action_train.merge(jdata_product[['sku_id','brand','shop_id','cate']], on='sku_id', how='left')"
   ]
  },
  {
   "cell_type": "code",
   "execution_count": 11,
   "metadata": {},
   "outputs": [],
   "source": [
    "jdata_action_train = jdata_action_train.merge(jdata_user[['user_id','age','sex','city_level','province','city','county']], on='user_id', how='left')"
   ]
  },
  {
   "cell_type": "code",
   "execution_count": 14,
   "metadata": {},
   "outputs": [],
   "source": [
    "jdata_action_train= jdata_action_train.merge(jdata_shop[['shop_id','fans_num','vip_num','shop_score']], on='shop_id', how='left')"
   ]
  },
  {
   "cell_type": "code",
   "execution_count": null,
   "metadata": {},
   "outputs": [],
   "source": [
    "jdata_action_train= jdata_action_train.merge(jdata_comment[['sku_id','comments','good_comments','bad_comments']], on='sku_id', how='left')"
   ]
  },
  {
   "cell_type": "code",
   "execution_count": null,
   "metadata": {},
   "outputs": [],
   "source": []
  }
 ],
 "metadata": {
  "kernelspec": {
   "display_name": "Python 3",
   "language": "python",
   "name": "python3"
  },
  "language_info": {
   "codemirror_mode": {
    "name": "ipython",
    "version": 3
   },
   "file_extension": ".py",
   "mimetype": "text/x-python",
   "name": "python",
   "nbconvert_exporter": "python",
   "pygments_lexer": "ipython3",
   "version": "3.6.8"
  }
 },
 "nbformat": 4,
 "nbformat_minor": 2
}
